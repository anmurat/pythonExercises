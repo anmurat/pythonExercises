{
 "cells": [
  {
   "cell_type": "markdown",
   "id": "c1bb5954",
   "metadata": {},
   "source": [
    "# Interview Questions"
   ]
  },
  {
   "cell_type": "code",
   "execution_count": null,
   "id": "6a832a5a",
   "metadata": {},
   "outputs": [],
   "source": [
    "#(\"hi my name is john and i am learning python\") -> (\"Hi mY NaMe iS JoHn aNd i aM LeArNiNg pYtHoN\")"
   ]
  },
  {
   "cell_type": "code",
   "execution_count": 5,
   "id": "863c9a99",
   "metadata": {},
   "outputs": [
    {
     "name": "stdout",
     "output_type": "stream",
     "text": [
      "Hi mY NaMe iS JoHn aNd i aM LeArNiNg pYtHoN\n"
     ]
    }
   ],
   "source": [
    "def alternating(string):\n",
    "    new_string = \"\"\n",
    "    for string_index in range(len(string)):\n",
    "        if string_index % 2 == 0:\n",
    "            new_string += string[string_index].upper()\n",
    "        else:\n",
    "            new_string += string[string_index].lower()\n",
    "    print(new_string)\n",
    "    \n",
    "alternating(\"hi my name is john and i am learning python\")"
   ]
  },
  {
   "cell_type": "code",
   "execution_count": null,
   "id": "3d7f576e",
   "metadata": {},
   "outputs": [],
   "source": [
    "# 2.way(Using enumerate)"
   ]
  },
  {
   "cell_type": "code",
   "execution_count": 7,
   "id": "f37e0b9e",
   "metadata": {},
   "outputs": [
    {
     "data": {
      "text/plain": [
       "'Hi mY NaMe iS JoHn aNd i aM LeArNiNg pYtHoN'"
      ]
     },
     "execution_count": 7,
     "metadata": {},
     "output_type": "execute_result"
    }
   ],
   "source": [
    "def alternating_with_enumerate(string):\n",
    "    new_string = \"\"\n",
    "    for i, letter in enumerate(string):\n",
    "        if i % 2 == 0:\n",
    "            new_string += letter.upper()\n",
    "        else:\n",
    "            new_string += letter.lower()\n",
    "    return new_string\n",
    "\n",
    "alternating_with_enumerate(\"hi my name is john and i am learning python\")"
   ]
  },
  {
   "cell_type": "markdown",
   "id": "f0f23542",
   "metadata": {},
   "source": [
    "# 2.Q.)"
   ]
  },
  {
   "cell_type": "code",
   "execution_count": null,
   "id": "9b397fc3",
   "metadata": {},
   "outputs": [],
   "source": [
    "# 1- Write divide_students function.\n",
    "# 2- Students in double and single index will be in 2 separate lists.\n",
    "# 3- But let these two lists return in a single list.\n",
    "# students = [\"John\", \"Mark\", \"Vanessa\", \"Marriam\"]"
   ]
  },
  {
   "cell_type": "code",
   "execution_count": 6,
   "id": "52337e80",
   "metadata": {},
   "outputs": [
    {
     "data": {
      "text/plain": [
       "[['John', 'Vanessa'], ['Mark', 'Marriam']]"
      ]
     },
     "execution_count": 6,
     "metadata": {},
     "output_type": "execute_result"
    }
   ],
   "source": [
    "students = [\"John\", \"Mark\", \"Vanessa\", \"Marriam\"]\n",
    "\n",
    "def divide_students(students):\n",
    "    groups = [[], []]\n",
    "    for index, student in enumerate(students):\n",
    "        if index % 2 == 0:\n",
    "            groups[0].append(student)\n",
    "        else:\n",
    "            groups[1].append(student)\n",
    "    return groups\n",
    "divide_students(students)"
   ]
  },
  {
   "cell_type": "code",
   "execution_count": null,
   "id": "9a03de0a",
   "metadata": {},
   "outputs": [],
   "source": []
  }
 ],
 "metadata": {
  "kernelspec": {
   "display_name": "Python 3 (ipykernel)",
   "language": "python",
   "name": "python3"
  },
  "language_info": {
   "codemirror_mode": {
    "name": "ipython",
    "version": 3
   },
   "file_extension": ".py",
   "mimetype": "text/x-python",
   "name": "python",
   "nbconvert_exporter": "python",
   "pygments_lexer": "ipython3",
   "version": "3.9.12"
  }
 },
 "nbformat": 4,
 "nbformat_minor": 5
}
