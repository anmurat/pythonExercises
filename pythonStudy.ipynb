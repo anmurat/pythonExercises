{
 "cells": [
  {
   "cell_type": "code",
   "execution_count": null,
   "id": "5e824028",
   "metadata": {},
   "outputs": [],
   "source": [
    "# TASK 1: Capitalize all letters of the given string expression. \n",
    "# Replace comma and period with space and separate word by word."
   ]
  },
  {
   "cell_type": "code",
   "execution_count": 1,
   "id": "26b31b6d",
   "metadata": {},
   "outputs": [
    {
     "data": {
      "text/plain": [
       "['THE',\n",
       " 'GOAL',\n",
       " 'IS',\n",
       " 'TO',\n",
       " 'TURN',\n",
       " 'DATA',\n",
       " 'INTO',\n",
       " 'INFORMATION',\n",
       " 'AND',\n",
       " 'INFORMATION',\n",
       " 'INTO',\n",
       " 'INSIGHT']"
      ]
     },
     "execution_count": 1,
     "metadata": {},
     "output_type": "execute_result"
    }
   ],
   "source": [
    "text = \"The goal is to turn data into information, and information into insight.\"\n",
    "\n",
    "text.upper().replace(\",\", \" \").replace(\".\", \" \").split()"
   ]
  },
  {
   "cell_type": "code",
   "execution_count": null,
   "id": "bb0d722d",
   "metadata": {},
   "outputs": [],
   "source": [
    "# TASK 2: Write a function that takes a list as argument, \n",
    "#assigns the odd and even numbers in the list to separate lists and returns these lists."
   ]
  },
  {
   "cell_type": "code",
   "execution_count": 9,
   "id": "ffdc8899",
   "metadata": {},
   "outputs": [
    {
     "data": {
      "text/plain": [
       "([2, 18, 22], [13, 93])"
      ]
     },
     "execution_count": 9,
     "metadata": {},
     "output_type": "execute_result"
    }
   ],
   "source": [
    "l = [2,13,18,93,22]\n",
    "\n",
    "def func(list):\n",
    "    even_list = []\n",
    "    odd_list = []\n",
    "    for num in list:\n",
    "        if num % 2 == 0:\n",
    "            even_list.append(num)\n",
    "        else:\n",
    "            odd_list.append(num)\n",
    "    return even_list, odd_list\n",
    "\n",
    "func(l)"
   ]
  },
  {
   "cell_type": "code",
   "execution_count": null,
   "id": "dfac1820",
   "metadata": {},
   "outputs": [],
   "source": [
    "# TASK 3: The list below contains the names of the students who ranked in the engineering and medical faculties.\n",
    "# The first three students represent the ranking of engineering students and \n",
    "# the last three students represent the ranking of medical students.\n",
    "# Print the student rankings by faculty using Enumarate."
   ]
  },
  {
   "cell_type": "code",
   "execution_count": 10,
   "id": "70081fd4",
   "metadata": {},
   "outputs": [
    {
     "name": "stdout",
     "output_type": "stream",
     "text": [
      "Engineering faculty  1 . student:  Ali\n",
      "Engineering faculty  2 . student:  Veli\n",
      "Engineering faculty  3 . student:  Ayse\n",
      "Medical faculty  4 . student:  Talat\n",
      "Medical faculty  5 . student:  Zeynep\n",
      "Medical faculty  6 . student:  Ece\n"
     ]
    }
   ],
   "source": [
    "students = [\"Ali\",\"Veli\",\"Ayse\",\"Talat\",\"Zeynep\",\"Ece\"]\n",
    "\n",
    "for index, student in enumerate(students):\n",
    "    if index < 3:\n",
    "        index += 1\n",
    "        print(\"Engineering faculty \", index, \". student: \", student)\n",
    "    else:\n",
    "        index += 1\n",
    "        print(\"Medical faculty \", index, \". student: \", student)\n",
    "    "
   ]
  },
  {
   "cell_type": "code",
   "execution_count": null,
   "id": "714ffacb",
   "metadata": {},
   "outputs": [],
   "source": [
    "# TASK 4: 3 lists are given below. \n",
    "# The lists contain the code, credit and quota information of a course respectively. \n",
    "# Print the course information using Zip.\n"
   ]
  },
  {
   "cell_type": "code",
   "execution_count": 13,
   "id": "4c5aaa08",
   "metadata": {},
   "outputs": [
    {
     "name": "stdout",
     "output_type": "stream",
     "text": [
      "The quota for the course coded CMP1005 with 3 credit is 30.\n",
      "The quota for the course coded PSY1001 with 4 credit is 75.\n",
      "The quota for the course coded HUK1005 with 2 credit is 150.\n",
      "The quota for the course coded SEN2204 with 4 credit is 25.\n"
     ]
    }
   ],
   "source": [
    "course_code = [\"CMP1005\",\"PSY1001\",\"HUK1005\",\"SEN2204\"]\n",
    "credit = [3,4,2,4]\n",
    "quota = [30,75,150,25]\n",
    "\n",
    "for course_code, credit, quota in zip(course_code, credit, quota):\n",
    "    print(f\"The quota for the course coded {course_code} with {credit} credit is {quota}.\")"
   ]
  },
  {
   "cell_type": "code",
   "execution_count": null,
   "id": "3780ba30",
   "metadata": {},
   "outputs": [],
   "source": [
    "# TASK 5: 2 sets are given below.\n",
    "# You are expected to define a function that will print the common elements of set 1 \n",
    "# if it includes set 2 and the difference of set 2 from set 1 if it does not."
   ]
  },
  {
   "cell_type": "code",
   "execution_count": 14,
   "id": "dc994814",
   "metadata": {},
   "outputs": [
    {
     "name": "stdout",
     "output_type": "stream",
     "text": [
      "{'miuul', 'lambda', 'qcut', 'function'}\n"
     ]
    }
   ],
   "source": [
    "set1 = set([\"data\", \"python\"])\n",
    "set2 = set([\"data\", \"function\", \"qcut\", \"lambda\", \"python\", \"miuul\"])\n",
    "\n",
    "def func_about_set(set1, set2):\n",
    "    if set1.issuperset(set2):\n",
    "        print(set1.intersection(set2))\n",
    "    else:\n",
    "        print(set2.difference(set1))\n",
    "        \n",
    "func_about_set(set1,set2)"
   ]
  }
 ],
 "metadata": {
  "kernelspec": {
   "display_name": "Python 3 (ipykernel)",
   "language": "python",
   "name": "python3"
  },
  "language_info": {
   "codemirror_mode": {
    "name": "ipython",
    "version": 3
   },
   "file_extension": ".py",
   "mimetype": "text/x-python",
   "name": "python",
   "nbconvert_exporter": "python",
   "pygments_lexer": "ipython3",
   "version": "3.9.12"
  }
 },
 "nbformat": 4,
 "nbformat_minor": 5
}
